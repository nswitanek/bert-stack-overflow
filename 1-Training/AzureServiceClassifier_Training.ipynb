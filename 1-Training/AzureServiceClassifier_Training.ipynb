{
 "cells": [
  {
   "cell_type": "markdown",
   "metadata": {},
   "source": [
    "Copyright (c) Microsoft Corporation. All rights reserved.\n",
    "\n",
    "Licensed under the MIT License."
   ]
  },
  {
   "cell_type": "markdown",
   "metadata": {},
   "source": [
    "# Part 1: Training Tensorflow 2.0 Model on Azure Machine Learning Service\n",
    "\n",
    "## Overview of the part 1\n",
    "This notebook is Part 1 (Preparing Data and Model Training) of a four part workshop that demonstrates an end-to-end workflow using Tensorflow 2.0 on Azure Machine Learning service. The different components of the workshop are as follows:\n",
    "\n",
    "- Part 1: [Preparing Data and Model Training](https://github.com/microsoft/bert-stack-overflow/blob/master/1-Training/AzureServiceClassifier_Training.ipynb)\n",
    "- Part 2: [Inferencing and Deploying a Model](https://github.com/microsoft/bert-stack-overflow/blob/master/2-Inferencing/AzureServiceClassifier_Inferencing.ipynb)\n",
    "- Part 3: [Setting Up a Pipeline Using MLOps](https://github.com/microsoft/bert-stack-overflow/tree/master/3-ML-Ops)\n",
    "- Part 4: [Explaining Your Model Interpretability](https://github.com/microsoft/bert-stack-overflow/blob/master/4-Interpretibility/IBMEmployeeAttritionClassifier_Interpretability.ipynb)\n",
    "\n",
    "**This notebook will cover the following topics:**\n",
    "\n",
    "- Stackoverflow question tagging problem\n",
    "- Introduction to Transformer and BERT deep learning models\n",
    "- Introduction to Azure Machine Learning service\n",
    "- Preparing raw data for training using Apache Spark\n",
    "- Registering cleaned up training data as a Dataset\n",
    "- Debugging the model in Tensorflow 2.0 Eager Mode\n",
    "- Training the model on GPU cluster\n",
    "- Monitoring training progress with built-in Tensorboard dashboard \n",
    "- Automated search of best hyper-parameters of the model\n",
    "- Registering the trained model for future deployment"
   ]
  },
  {
   "cell_type": "markdown",
   "metadata": {},
   "source": [
    "## Prerequisites\n",
    "This notebook is designed to be run in an Azure ML Notebook VM. See the [readme](https://github.com/microsoft/bert-stack-overflow/blob/master/README.md) file for instructions on how to create Notebook VM and open this notebook in it."
   ]
  },
  {
   "cell_type": "markdown",
   "metadata": {},
   "source": [
    "### Check Azure Machine Learning Python SDK version\n",
    "\n",
    "This tutorial requires version 1.27.0 or higher of the Azure ML Python SDK. Let's check the version of the SDK:"
   ]
  },
  {
   "cell_type": "code",
   "execution_count": 1,
   "metadata": {
    "scrolled": true
   },
   "outputs": [
    {
     "name": "stdout",
     "output_type": "stream",
     "text": [
      "Azure Machine Learning Python SDK version: 1.29.0\n"
     ]
    }
   ],
   "source": [
    "import azureml.core\n",
    "\n",
    "print(\"Azure Machine Learning Python SDK version:\", azureml.core.VERSION)"
   ]
  },
  {
   "cell_type": "markdown",
   "metadata": {},
   "source": [
    "## Stackoverflow Question Tagging Problem \n",
    "In this workshop we will use a powerful language understanding model to automatically route Stackoverflow questions about Azure services to the appropriate Azure support team.\n",
    "\n",
    "One of the key tasks to ensuring long term success of any Azure service is actively responding to related posts in online forums such as Stackoverflow. In order to keep track of these posts, Microsoft relies on the associated tags to direct questions to the appropriate support team. While Stackoverflow has different tags for each Azure service (azure-web-app-service, azure-virtual-machine-service, etc), people often use the generic **azure** tag. Questions without appropriate tags are less likely to be found by the teams that can help, and so many untagged and generically tagged questions are unanswered. \n",
    "\n",
    "**In order to solve this problem, we will build a model to classify posts on Stackoverflow with the appropriate Azure service tag.**\n",
    "\n",
    "We will be using a BERT (Bidirectional Encoder Representations from Transformers) model which was published by researchers at Google AI Reasearch. Unlike prior language representation models, BERT is designed to pre-train deep bidirectional representations from unlabeled text by jointly conditioning on both left and right context in all layers. The pre-trained BERT model can be fine-tuned with just one additional output layer to create state-of-the-art models for a wide range of natural language processing (NLP) tasks without substantial architecture modifications.\n",
    "\n",
    "## Why use BERT model?\n",
    "[Introduction of BERT model](https://arxiv.org/pdf/1810.04805.pdf) changed the world of NLP. Many NLP problems that before relied on specialized models to achive state of the art performance are now solved with BERT better and with more generic approach.\n",
    "\n",
    "If we look at the leaderboards on such popular NLP problems as GLUE and SQUAD, most of the top models are based on BERT:\n",
    "* [GLUE Benchmark Leaderboard](https://gluebenchmark.com/leaderboard/)\n",
    "* [SQuAD Benchmark Leaderboard](https://rajpurkar.github.io/SQuAD-explorer/)\n",
    "\n",
    "Recently, the Allen Institue for AI announced a new language understanding system called Aristo [https://allenai.org/aristo/](https://allenai.org/aristo/). The system has been developed for 20 years, but its performance on 8th grade science test was stuck at 60%. The result jumped to 90% once researchers adopted BERT as the core language understanding component. With BERT Aristo now solves the test with A grade.  "
   ]
  },
  {
   "cell_type": "markdown",
   "metadata": {},
   "source": [
    "## Quick Overview of How BERT model works\n",
    "\n",
    "The foundation of BERT model is the Transformer model architecture, which was introduced in the paper [Attention Is All You Need](https://arxiv.org/abs/1706.03762). Before the introduction of transformers, the dominant deep learning language model architecture used Recurrent Neural Networks (RNNs). For context, let's briefly review RNNs.\n",
    "\n",
    "## RNNs\n",
    "\n",
    "In many languages, what you say next can be partially predicted based on what you've just said. RNNs were designed to capture what's already been said or written, and perform sophisticated inference on what text will follow based on that.\n",
    "\n",
    "<img src=\"https://miro.medium.com/max/400/1*L38xfe59H5tAgvuIjKoWPg.png\" alt=\"Drawing\" style=\"width: 100px;\"/>\n",
    "\n",
    "_Taken from [1](https://towardsdatascience.com/transformers-141e32e69591)_\n",
    "\n",
    "Applied to language translation tasks, the processing dynamics looked like this.\n",
    "\n",
    "![](https://miro.medium.com/max/1200/1*8GcdjBU5TAP36itWBcZ6iA.gif)\n",
    "_Taken from [2](https://jalammar.github.io/visualizing-neural-machine-translation-mechanics-of-seq2seq-models-with-attention/)_\n",
    "    \n",
    "But RNNs suffered from two disadvantages:\n",
    "1. Sequential computation put a limit on parallelization, which limited the effectiveness of larger models.\n",
    "2. Long term relationships between words were harder to detect."
   ]
  },
  {
   "cell_type": "markdown",
   "metadata": {},
   "source": [
    "## Transformers\n",
    "\n",
    "Transformers were designed to address these two limitations of RNNs.\n",
    "\n",
    "<img src=\"https://miro.medium.com/max/2436/1*V2435M1u0tiSOz4nRBfl4g.png\" alt=\"Drawing\" style=\"width: 500px;\"/>\n",
    "\n",
    "_Taken from [3](http://jalammar.github.io/illustrated-transformer/)_\n",
    "\n",
    "In each Encoder layer, Transformers perform a Self-Attention operation which detects relationships between all word embeddings in one matrix multiplication operation. Notably, the relationships are not constrained to just those words that occurred before a particular word. \n",
    "\n",
    "<img src=\"https://miro.medium.com/max/2176/1*fL8arkEFVKA3_A7VBgapKA.gif\" alt=\"Drawing\" style=\"width: 500px;\"/>\n",
    "\n",
    "_Taken from [4](https://towardsdatascience.com/deconstructing-bert-part-2-visualizing-the-inner-workings-of-attention-60a16d86b5c1)_\n"
   ]
  },
  {
   "cell_type": "markdown",
   "metadata": {},
   "source": [
    "## BERT Model\n",
    "\n",
    "BERT is a very large network with multiple layers of Transformers (12 for BERT-base, and 24 for BERT-large). The model is first pre-trained on a large collection, or corpus, of text data (WikiPedia + books) using self-supervised training, predicting masked words in a sentence. During pre-training the model absorbs significant level of language understanding and produces a more generally useful representation of the language.\n",
    "\n",
    "<img src=\"http://jalammar.github.io/images/bert-output-vector.png\" alt=\"Drawing\" style=\"width: 700px;\"/>\n",
    "\n",
    "_Taken from [5](http://jalammar.github.io/illustrated-bert/)_\n",
    "\n",
    "The pre-trained BERT model can then be fine-tuned to solve specific language tasks, like answering questions, or categorizing spam emails.\n",
    "\n",
    "<img src=\"http://jalammar.github.io/images/bert-classifier.png\" alt=\"Drawing\" style=\"width: 700px;\"/>\n",
    "\n",
    "_Taken from [5](http://jalammar.github.io/illustrated-bert/)_\n",
    "\n",
    "The end-to-end training process for a model that tags stackoverflow questions looks like this:\n",
    "\n",
    "![](images/model-training-e2e.png)\n"
   ]
  },
  {
   "cell_type": "markdown",
   "metadata": {},
   "source": [
    "## What is Azure Machine Learning Service?\n",
    "Azure Machine Learning service is a cloud service that you can use to develop and deploy machine learning models. Using Azure Machine Learning service, you can track your models as you build, train, deploy, and manage them, all at the broad scale that the cloud provides.\n",
    "![](./images/aml-overview.png)\n",
    "\n",
    "\n",
    "#### How can we use it for training machine learning models?\n",
    "Training machine learning models, particularly deep neural networks, is often a time- and compute-intensive task. Once you've finished writing your training script and running on a small subset of data on your local machine, you will likely want to scale up your workload.\n",
    "\n",
    "To facilitate large-scale training, the Azure Machine Learning Python SDK provides high-level abstractions like the ScriptRunConfig that enable users to easily train their models in the Azure ecosystem. You will learn to submit any training code you want to run on remote compute, whether it's a single-node run or distributed training across a GPU cluster."
   ]
  },
  {
   "cell_type": "markdown",
   "metadata": {},
   "source": [
    "## Connect To Workspace\n",
    "\n",
    "The [workspace](https://docs.microsoft.com/en-us/python/api/azureml-core/azureml.core.workspace(class)?view=azure-ml-py) is the top-level resource for Azure Machine Learning, providing a centralized place to work with all the artifacts you create when you use Azure Machine Learning. The workspace holds all your experiments, compute targets, models, datastores, etc.\n",
    "\n",
    "You can [open ml.azure.com](https://ml.azure.com) to access your workspace resources through a graphical user interface of **Azure Machine Learning studio**.\n",
    "\n",
    "![](./images/aml-workspace.png)\n",
    "\n",
    "**You will be asked to login in the next step. Use your Microsoft AAD credentials.**"
   ]
  },
  {
   "cell_type": "code",
   "execution_count": 2,
   "metadata": {},
   "outputs": [
    {
     "name": "stdout",
     "output_type": "stream",
     "text": [
      "Performing interactive authentication. Please follow the instructions on the terminal.\n",
      "To sign in, use a web browser to open the page https://microsoft.com/devicelogin and enter the code FZHKFAX36 to authenticate.\n",
      "You have logged in. Now let us find all the subscriptions to which you have access...\n"
     ]
    },
    {
     "name": "stderr",
     "output_type": "stream",
     "text": [
      "Failed to authenticate to tenant '53049b77-3e8f-4792-977f-0a3e5f23891b' due to error 'Get Token request returned http error: 400 and server response: {\"error\":\"interaction_required\",\"error_description\":\"AADSTS50076: Due to a configuration change made by your administrator, or because you moved to a new location, you must use multi-factor authentication to access '797f4846-ba00-4fd7-ba43-dac1f8f63013'.\\r\\nTrace ID: 56c152ed-01d4-44ba-b1e4-64c504144700\\r\\nCorrelation ID: f5caa99d-4cd2-40a8-90c2-e7e466a6d494\\r\\nTimestamp: 2021-06-08 22:11:20Z\",\"error_codes\":[50076],\"timestamp\":\"2021-06-08 22:11:20Z\",\"trace_id\":\"56c152ed-01d4-44ba-b1e4-64c504144700\",\"correlation_id\":\"f5caa99d-4cd2-40a8-90c2-e7e466a6d494\",\"error_uri\":\"https://login.microsoftonline.com/error?code=50076\",\"suberror\":\"basic_action\"}'.Will continue to look for other tenants to find subscriptions to which you have access\n"
     ]
    },
    {
     "name": "stdout",
     "output_type": "stream",
     "text": [
      "Interactive authentication successfully completed.\n",
      "Workspace name: njs-ws\n",
      "Azure region: eastus\n",
      "Subscription id: 89a7c057-a585-47a4-8a7e-afc472bf9b0c\n",
      "Resource group: njs-aia-rg\n"
     ]
    }
   ],
   "source": [
    "from azureml.core import Workspace\n",
    "\n",
    "ws = Workspace.from_config()\n",
    "print('Workspace name: ' + ws.name, \n",
    "      'Azure region: ' + ws.location, \n",
    "      'Subscription id: ' + ws.subscription_id, \n",
    "      'Resource group: ' + ws.resource_group, sep = '\\n')"
   ]
  },
  {
   "cell_type": "markdown",
   "metadata": {},
   "source": [
    "## Register Datastore"
   ]
  },
  {
   "cell_type": "markdown",
   "metadata": {},
   "source": [
    "A [Datastore](https://docs.microsoft.com/en-us/python/api/azureml-core/azureml.core.datastore.datastore?view=azure-ml-py) is used to store connection information to a central data storage. This allows you to access your storage without having to hard code this (potentially confidential) information into your scripts. \n",
    "\n",
    "In this tutorial, the data was been previously prepped and uploaded into a central [Blob Storage](https://azure.microsoft.com/en-us/services/storage/blobs/) container. We will register this container into our workspace as a datastore using a [shared access signature (SAS) token](https://docs.microsoft.com/en-us/azure/storage/common/storage-sas-overview). \n",
    "\n",
    "\n",
    "Here is files.\n",
    "![](https://github.com/xlegend1024/bert-stack-overflow/raw/master/images/datastore_folder_files.png)"
   ]
  },
  {
   "cell_type": "code",
   "execution_count": 3,
   "metadata": {
    "gather": {
     "logged": 1622006615321
    },
    "scrolled": true
   },
   "outputs": [],
   "source": [
    "from azureml.core import Datastore, Dataset\n",
    "\n",
    "datastore_name = 'mtcseattle'\n",
    "container_name = 'azure-service-classifier'\n",
    "account_name = 'mtcseattle'\n",
    "sas_token = '?sv=2020-04-08&st=2021-05-26T04%3A39%3A46Z&se=2022-05-27T04%3A39%3A00Z&sr=c&sp=rl&sig=CTFMEu24bo2X06G%2B%2F2aKiiPZBzvlWHELe15rNFqULUk%3D'\n",
    "\n",
    "datastore = Datastore.register_azure_blob_container(workspace=ws, \n",
    "                                                    datastore_name=datastore_name, \n",
    "                                                    container_name=container_name,\n",
    "                                                    account_name=account_name, \n",
    "                                                    sas_token=sas_token,\n",
    "                                                    overwrite=True)"
   ]
  },
  {
   "cell_type": "markdown",
   "metadata": {},
   "source": [
    "#### If the datastore has already been registered, then you (and other users in your workspace) can directly run this cell."
   ]
  },
  {
   "cell_type": "code",
   "execution_count": 4,
   "metadata": {
    "gather": {
     "logged": 1622006619321
    },
    "scrolled": true
   },
   "outputs": [
    {
     "data": {
      "text/plain": "{\n  \"name\": \"mtcseattle\",\n  \"container_name\": \"azure-service-classifier\",\n  \"account_name\": \"mtcseattle\",\n  \"protocol\": \"https\",\n  \"endpoint\": \"core.windows.net\"\n}"
     },
     "execution_count": 4,
     "metadata": {},
     "output_type": "execute_result"
    }
   ],
   "source": [
    "from azureml.core import Datastore\n",
    "\n",
    "datastore = Datastore.get(ws, 'mtcseattle')\n",
    "datastore"
   ]
  },
  {
   "cell_type": "markdown",
   "metadata": {},
   "source": [
    "## Dataset\n",
    "\n",
    "An Azure Machine Learning [Dataset](https://docs.microsoft.com/en-us/python/api/azureml-core/azureml.core.dataset.dataset?view=azure-ml-py) is a resource for exploring, transforming, and managing data in Azure Machine Learning. The following Dataset types are supported:\n",
    "\n",
    "* [TabularDataset](https://docs.microsoft.com/en-us/python/api/azureml-core/azureml.data.tabulardataset?view=azure-ml-py) represents data in a tabular format created by parsing the provided file or list of files.\n",
    "\n",
    "* [FileDataset](https://docs.microsoft.com/en-us/python/api/azureml-core/azureml.data.filedataset?view=azure-ml-py) references a single file or multiple files in Datastores or from public URLs."
   ]
  },
  {
   "cell_type": "markdown",
   "metadata": {},
   "source": [
    "### Register Dataset using SDK\n",
    "\n",
    "In this workshop, we will register Datasets using the SDK. In particular, we will register a File Dataset. File Datasets allow for the data files in a specific folder in our Datastore to be registered as a Dataset.\n",
    "\n",
    "There is a folder within our datastore called **data** that contains all our training and testing data. We will register this as a dataset."
   ]
  },
  {
   "cell_type": "code",
   "execution_count": 5,
   "metadata": {
    "scrolled": true
   },
   "outputs": [],
   "source": [
    "azure_dataset = Dataset.File.from_files(path=(datastore, 'data'))\n",
    "\n",
    "azure_dataset = azure_dataset.register(workspace=ws,\n",
    "                                       name='Azure Services Dataset',\n",
    "                                       description='Dataset containing azure related posts on Stackoverflow',\n",
    "                                       create_new_version=True)"
   ]
  },
  {
   "cell_type": "markdown",
   "metadata": {},
   "source": [
    "#### If the dataset has already been registered, then you (and other users in your workspace) can directly run this cell."
   ]
  },
  {
   "cell_type": "code",
   "execution_count": null,
   "metadata": {
    "scrolled": true
   },
   "outputs": [],
   "source": [
    "azure_dataset = Dataset.get_by_name(ws, 'Azure Services Dataset')\n",
    "azure_dataset "
   ]
  },
  {
   "cell_type": "markdown",
   "metadata": {},
   "source": [
    "## Perform Experiment using Azure Machine Learning for SDK\n",
    "\n",
    "Now that we have a Compute Instance, Dataset, and training script working locally, it is time to train a model running the script. We will start by creating an [Experiment](https://docs.microsoft.com/en-us/python/api/azureml-core/azureml.core.experiment.experiment?view=azure-ml-py). An Experiment is useful for grouping many runs of a specified script, or many runs of competing approaches to a single task. All runs in this tutorial will be performed under the same Experiment. "
   ]
  },
  {
   "cell_type": "code",
   "execution_count": 6,
   "metadata": {
    "scrolled": true
   },
   "outputs": [],
   "source": [
    "from azureml.core import Experiment\n",
    "\n",
    "experiment_name = 'azure-service-classifier' \n",
    "experiment = Experiment(ws, name=experiment_name)"
   ]
  },
  {
   "cell_type": "markdown",
   "metadata": {},
   "source": [
    "So that we can replicate the exact set of packages our script relies on, we establish an Environment and specify packages, some with specific versions. We will pass the Environment specification along with our script when we submit the run."
   ]
  },
  {
   "cell_type": "code",
   "execution_count": 9,
   "metadata": {
    "gather": {
     "logged": 1622006443581
    }
   },
   "outputs": [
    {
     "data": {
      "text/plain": "{\n    \"databricks\": {\n        \"eggLibraries\": [],\n        \"jarLibraries\": [],\n        \"mavenLibraries\": [],\n        \"pypiLibraries\": [],\n        \"rcranLibraries\": []\n    },\n    \"docker\": {\n        \"arguments\": [],\n        \"baseDockerfile\": null,\n        \"baseImage\": \"mcr.microsoft.com/azureml/openmpi3.1.2-cuda10.0-cudnn7-ubuntu18.04:20210301.v1\",\n        \"baseImageRegistry\": {\n            \"address\": null,\n            \"password\": null,\n            \"registryIdentity\": null,\n            \"username\": null\n        },\n        \"enabled\": false,\n        \"platform\": {\n            \"architecture\": \"amd64\",\n            \"os\": \"Linux\"\n        },\n        \"sharedVolumes\": true,\n        \"shmSize\": null\n    },\n    \"environmentVariables\": {\n        \"EXAMPLE_ENV_VAR\": \"EXAMPLE_VALUE\"\n    },\n    \"inferencingStackVersion\": null,\n    \"name\": \"Bert_training\",\n    \"python\": {\n        \"baseCondaEnvironment\": null,\n        \"condaDependencies\": {\n            \"channels\": [\n                \"conda-forge\"\n            ],\n            \"dependencies\": [\n                \"python=3.6.2\",\n                {\n                    \"pip\": [\n                        \"azureml-core==1.25.0\",\n                        \"azureml-defaults==1.25.0\",\n                        \"azureml-telemetry==1.25.0\",\n                        \"azureml-train-restclients-hyperdrive==1.25.0\",\n                        \"azureml-train-core==1.25.0\",\n                        \"tensorflow-gpu==2.0.0\",\n                        \"horovod==0.18.1\",\n                        \"transformers==2.0.0\",\n                        \"absl-py\",\n                        \"azureml-dataprep\",\n                        \"h5py<3.0.0\",\n                        \"pandas\"\n                    ]\n                },\n                \"pip\"\n            ],\n            \"name\": \"azureml_63ce33a8693e1912f05bae5990e1f4ff\"\n        },\n        \"condaDependenciesFile\": null,\n        \"interpreterPath\": \"python\",\n        \"userManagedDependencies\": false\n    },\n    \"r\": null,\n    \"spark\": {\n        \"packages\": [],\n        \"precachePackages\": true,\n        \"repositories\": []\n    },\n    \"version\": \"44\"\n}"
     },
     "execution_count": 9,
     "metadata": {},
     "output_type": "execute_result"
    }
   ],
   "source": [
    "from azureml.core import Environment\n",
    "from azureml.core.conda_dependencies import CondaDependencies \n",
    "\n",
    "env = Environment.get(ws, name='AzureML-TensorFlow-2.0-GPU')\n",
    "env.python.conda_dependencies.add_conda_package(\"pip\")\n",
    "env.python.conda_dependencies.add_pip_package(\"transformers==2.0.0\")\n",
    "env.python.conda_dependencies.add_pip_package(\"absl-py\")\n",
    "env.python.conda_dependencies.add_pip_package(\"azureml-dataprep\")\n",
    "env.python.conda_dependencies.add_pip_package(\"h5py<3.0.0\")\n",
    "env.python.conda_dependencies.add_pip_package(\"pandas\")\n",
    "\n",
    "env.name = \"Bert_training\"\n",
    "env"
   ]
  },
  {
   "cell_type": "markdown",
   "metadata": {},
   "source": [
    "### Create ScriptRunConfig\n",
    "\n",
    "The RunConfiguration object encapsulates the information necessary to submit a training run in an experiment. Typically, you will not create a RunConfiguration object directly but get one from a method that returns it, such as the submit method of the Experiment class.\n",
    "\n",
    "RunConfiguration is a base environment configuration that is also used in other types of configuration steps that depend on what kind of run you are triggering. For example, when setting up a PythonScriptStep, you can access the step's RunConfiguration object and configure Conda dependencies or access the environment properties for the run."
   ]
  },
  {
   "cell_type": "markdown",
   "metadata": {},
   "source": [
    "Let's go over how a Run is executed in Azure Machine Learning.\n",
    "\n",
    "![](./images/aml-run.png)"
   ]
  },
  {
   "cell_type": "markdown",
   "metadata": {},
   "source": [
    "A quick description for each of the parameters we have just defined:\n",
    "\n",
    "- `source_directory`: This specifies the root directory of our source code. \n",
    "- `entry_script`: This specifies the training script to run. It should be relative to the source_directory.\n",
    "- `compute_target`: This specifies to compute target to run the job on. We will use the one created earlier.\n",
    "- `script_params`: This specifies the input parameters to the training script. Please note:\n",
    "\n",
    "    1) *azure_dataset.as_named_input('azureservicedata').as_mount()* mounts the dataset to the remote compute and provides the path to the dataset on our datastore. \n",
    "    \n",
    "    2) All outputs from the training script must be outputted to an './outputs' directory as this is the only directory that will be saved to the run. "
   ]
  },
  {
   "cell_type": "markdown",
   "metadata": {},
   "source": [
    "#### Add Metrics Logging\n",
    "\n",
    "So we were able to clone a Tensorflow 2.0 project and run it without any changes. However, with larger scale projects we would want to log some metrics in order to make it easier to monitor the performance of our model and compare its performance to that of other models. \n",
    "\n",
    "We can do this by adding a few lines of code into our training script:\n",
    "\n",
    "```python\n",
    "# 1) Import SDK Run object\n",
    "from azureml.core.run import Run\n",
    "\n",
    "# 2) Get current service context\n",
    "run = Run.get_context()\n",
    "\n",
    "# 3) Log the metrics that we want\n",
    "run.log('val_accuracy', float(logs.get('val_accuracy')))\n",
    "run.log('accuracy', float(logs.get('accuracy')))\n",
    "```\n",
    "We've created a *train_logging.py* script that includes logging metrics as shown above. "
   ]
  },
  {
   "cell_type": "code",
   "execution_count": 7,
   "metadata": {},
   "outputs": [
    {
     "name": "stdout",
     "output_type": "stream",
     "text": [
      "Error: no such file, variable, URL, history range or macro\n"
     ]
    }
   ],
   "source": [
    "%pycat train_logging.py"
   ]
  },
  {
   "cell_type": "code",
   "execution_count": 11,
   "metadata": {
    "gather": {
     "logged": 1622006507878
    }
   },
   "outputs": [
    {
     "ename": "FileNotFoundError",
     "evalue": "[Errno 2] No such file or directory: '/mnt/batch/tasks/shared/LS_root/mounts/clusters/ds3-v2-njs/code/Users/niswitan/bert-stack-overflow-1/1-Training'",
     "output_type": "error",
     "traceback": [
      "\u001b[0;31m---------------------------------------------------------------------------\u001b[0m",
      "\u001b[0;31mFileNotFoundError\u001b[0m                         Traceback (most recent call last)",
      "\u001b[0;32m<ipython-input-11-83e5e5ed0fb0>\u001b[0m in \u001b[0;36m<module>\u001b[0;34m\u001b[0m\n\u001b[1;32m     13\u001b[0m                            environment=env)\n\u001b[1;32m     14\u001b[0m \u001b[0;34m\u001b[0m\u001b[0m\n\u001b[0;32m---> 15\u001b[0;31m \u001b[0mrun\u001b[0m \u001b[0;34m=\u001b[0m \u001b[0mexperiment\u001b[0m\u001b[0;34m.\u001b[0m\u001b[0msubmit\u001b[0m\u001b[0;34m(\u001b[0m\u001b[0mscriptrun\u001b[0m\u001b[0;34m)\u001b[0m\u001b[0;34m\u001b[0m\u001b[0;34m\u001b[0m\u001b[0m\n\u001b[0m",
      "\u001b[0;32m/anaconda/envs/azureml_py36/lib/python3.6/site-packages/azureml/core/experiment.py\u001b[0m in \u001b[0;36msubmit\u001b[0;34m(self, config, tags, **kwargs)\u001b[0m\n\u001b[1;32m    218\u001b[0m         \u001b[0msubmit_func\u001b[0m \u001b[0;34m=\u001b[0m \u001b[0mget_experiment_submit\u001b[0m\u001b[0;34m(\u001b[0m\u001b[0mconfig\u001b[0m\u001b[0;34m)\u001b[0m\u001b[0;34m\u001b[0m\u001b[0;34m\u001b[0m\u001b[0m\n\u001b[1;32m    219\u001b[0m         \u001b[0;32mwith\u001b[0m \u001b[0mself\u001b[0m\u001b[0;34m.\u001b[0m\u001b[0m_log_context\u001b[0m\u001b[0;34m(\u001b[0m\u001b[0;34m\"submit config {}\"\u001b[0m\u001b[0;34m.\u001b[0m\u001b[0mformat\u001b[0m\u001b[0;34m(\u001b[0m\u001b[0mconfig\u001b[0m\u001b[0;34m.\u001b[0m\u001b[0m__class__\u001b[0m\u001b[0;34m.\u001b[0m\u001b[0m__name__\u001b[0m\u001b[0;34m)\u001b[0m\u001b[0;34m)\u001b[0m\u001b[0;34m:\u001b[0m\u001b[0;34m\u001b[0m\u001b[0;34m\u001b[0m\u001b[0m\n\u001b[0;32m--> 220\u001b[0;31m             \u001b[0mrun\u001b[0m \u001b[0;34m=\u001b[0m \u001b[0msubmit_func\u001b[0m\u001b[0;34m(\u001b[0m\u001b[0mconfig\u001b[0m\u001b[0;34m,\u001b[0m \u001b[0mself\u001b[0m\u001b[0;34m.\u001b[0m\u001b[0mworkspace\u001b[0m\u001b[0;34m,\u001b[0m \u001b[0mself\u001b[0m\u001b[0;34m.\u001b[0m\u001b[0mname\u001b[0m\u001b[0;34m,\u001b[0m \u001b[0;34m**\u001b[0m\u001b[0mkwargs\u001b[0m\u001b[0;34m)\u001b[0m\u001b[0;34m\u001b[0m\u001b[0;34m\u001b[0m\u001b[0m\n\u001b[0m\u001b[1;32m    221\u001b[0m         \u001b[0;32mif\u001b[0m \u001b[0mtags\u001b[0m \u001b[0;32mis\u001b[0m \u001b[0;32mnot\u001b[0m \u001b[0;32mNone\u001b[0m\u001b[0;34m:\u001b[0m\u001b[0;34m\u001b[0m\u001b[0;34m\u001b[0m\u001b[0m\n\u001b[1;32m    222\u001b[0m             \u001b[0mrun\u001b[0m\u001b[0;34m.\u001b[0m\u001b[0mset_tags\u001b[0m\u001b[0;34m(\u001b[0m\u001b[0mtags\u001b[0m\u001b[0;34m)\u001b[0m\u001b[0;34m\u001b[0m\u001b[0;34m\u001b[0m\u001b[0m\n",
      "\u001b[0;32m/anaconda/envs/azureml_py36/lib/python3.6/site-packages/azureml/core/script_run_config.py\u001b[0m in \u001b[0;36msubmit\u001b[0;34m(script_run_config, workspace, experiment_name, run_id, _parent_run_id, credential_passthrough)\u001b[0m\n\u001b[1;32m     62\u001b[0m     run = _commands.start_run(project, run_config,\n\u001b[1;32m     63\u001b[0m                               \u001b[0mtelemetry_values\u001b[0m\u001b[0;34m=\u001b[0m\u001b[0mscript_run_config\u001b[0m\u001b[0;34m.\u001b[0m\u001b[0m_telemetry_values\u001b[0m\u001b[0;34m,\u001b[0m\u001b[0;34m\u001b[0m\u001b[0;34m\u001b[0m\u001b[0m\n\u001b[0;32m---> 64\u001b[0;31m                               run_id=run_id, parent_run_id=_parent_run_id)\n\u001b[0m\u001b[1;32m     65\u001b[0m     \u001b[0mrun\u001b[0m\u001b[0;34m.\u001b[0m\u001b[0madd_properties\u001b[0m\u001b[0;34m(\u001b[0m\u001b[0mglobal_tracking_info_registry\u001b[0m\u001b[0;34m.\u001b[0m\u001b[0mgather_all\u001b[0m\u001b[0;34m(\u001b[0m\u001b[0mscript_run_config\u001b[0m\u001b[0;34m.\u001b[0m\u001b[0msource_directory\u001b[0m\u001b[0;34m)\u001b[0m\u001b[0;34m)\u001b[0m\u001b[0;34m\u001b[0m\u001b[0;34m\u001b[0m\u001b[0m\n\u001b[1;32m     66\u001b[0m \u001b[0;34m\u001b[0m\u001b[0m\n",
      "\u001b[0;32m/anaconda/envs/azureml_py36/lib/python3.6/site-packages/azureml/_execution/_commands.py\u001b[0m in \u001b[0;36mstart_run\u001b[0;34m(project_object, run_config_object, run_id, injected_files, telemetry_values, parent_run_id, prepare_only, check)\u001b[0m\n\u001b[1;32m     95\u001b[0m \u001b[0;34m\u001b[0m\u001b[0m\n\u001b[1;32m     96\u001b[0m     setup = _setup_run(project_object, run_config_object,\n\u001b[0;32m---> 97\u001b[0;31m                        injected_files=injected_files, prepare_only=prepare_only)\n\u001b[0m\u001b[1;32m     98\u001b[0m     \u001b[0mcustom_target_dict\u001b[0m \u001b[0;34m=\u001b[0m \u001b[0msetup\u001b[0m\u001b[0;34m.\u001b[0m\u001b[0mcustom_target_dict\u001b[0m\u001b[0;34m\u001b[0m\u001b[0;34m\u001b[0m\u001b[0m\n\u001b[1;32m     99\u001b[0m \u001b[0;34m\u001b[0m\u001b[0m\n",
      "\u001b[0;32m/anaconda/envs/azureml_py36/lib/python3.6/site-packages/azureml/_execution/_commands.py\u001b[0m in \u001b[0;36m_setup_run\u001b[0;34m(project_object, run_config_object, prepare_only, injected_files)\u001b[0m\n\u001b[1;32m    137\u001b[0m     \"\"\"\n\u001b[1;32m    138\u001b[0m     configuration_path = _get_configuration_path(project_object, run_config_object._name,\n\u001b[0;32m--> 139\u001b[0;31m                                                  config_type=RUNCONFIGURATION_EXTENSION)\n\u001b[0m\u001b[1;32m    140\u001b[0m     \u001b[0mconfiguration_path\u001b[0m \u001b[0;34m=\u001b[0m \u001b[0mnormalize_windows_paths\u001b[0m\u001b[0;34m(\u001b[0m\u001b[0mconfiguration_path\u001b[0m\u001b[0;34m)\u001b[0m\u001b[0;34m\u001b[0m\u001b[0;34m\u001b[0m\u001b[0m\n\u001b[1;32m    141\u001b[0m \u001b[0;34m\u001b[0m\u001b[0m\n",
      "\u001b[0;32m/anaconda/envs/azureml_py36/lib/python3.6/site-packages/azureml/_execution/_commands.py\u001b[0m in \u001b[0;36m_get_configuration_path\u001b[0;34m(project_object, name, config_type)\u001b[0m\n\u001b[1;32m    672\u001b[0m \u001b[0;34m\u001b[0m\u001b[0m\n\u001b[1;32m    673\u001b[0m \u001b[0;32mdef\u001b[0m \u001b[0m_get_configuration_path\u001b[0m\u001b[0;34m(\u001b[0m\u001b[0mproject_object\u001b[0m\u001b[0;34m,\u001b[0m \u001b[0mname\u001b[0m\u001b[0;34m,\u001b[0m \u001b[0mconfig_type\u001b[0m\u001b[0;34m)\u001b[0m\u001b[0;34m:\u001b[0m\u001b[0;34m\u001b[0m\u001b[0;34m\u001b[0m\u001b[0m\n\u001b[0;32m--> 674\u001b[0;31m     \u001b[0mfiles\u001b[0m \u001b[0;34m=\u001b[0m \u001b[0mget_project_files\u001b[0m\u001b[0;34m(\u001b[0m\u001b[0mproject_object\u001b[0m\u001b[0;34m.\u001b[0m\u001b[0mproject_directory\u001b[0m\u001b[0;34m,\u001b[0m \u001b[0mconfig_type\u001b[0m\u001b[0;34m)\u001b[0m\u001b[0;34m\u001b[0m\u001b[0;34m\u001b[0m\u001b[0m\n\u001b[0m\u001b[1;32m    675\u001b[0m     \u001b[0;32mif\u001b[0m \u001b[0mname\u001b[0m \u001b[0;32mnot\u001b[0m \u001b[0;32min\u001b[0m \u001b[0mfiles\u001b[0m\u001b[0;34m:\u001b[0m\u001b[0;34m\u001b[0m\u001b[0;34m\u001b[0m\u001b[0m\n\u001b[1;32m    676\u001b[0m         \u001b[0;32mreturn\u001b[0m \u001b[0;32mNone\u001b[0m\u001b[0;34m\u001b[0m\u001b[0;34m\u001b[0m\u001b[0m\n",
      "\u001b[0;32m/anaconda/envs/azureml_py36/lib/python3.6/site-packages/azureml/_base_sdk_common/common.py\u001b[0m in \u001b[0;36mget_project_files\u001b[0;34m(name, suffix)\u001b[0m\n\u001b[1;32m    465\u001b[0m     \u001b[0mtargets\u001b[0m \u001b[0;34m=\u001b[0m \u001b[0;34m[\u001b[0m\u001b[0;34m]\u001b[0m\u001b[0;34m\u001b[0m\u001b[0;34m\u001b[0m\u001b[0m\n\u001b[1;32m    466\u001b[0m     \u001b[0mrun_config_path\u001b[0m \u001b[0;34m=\u001b[0m \u001b[0mget_run_config_dir_path_if_exists\u001b[0m\u001b[0;34m(\u001b[0m\u001b[0mname\u001b[0m\u001b[0;34m)\u001b[0m\u001b[0;34m\u001b[0m\u001b[0;34m\u001b[0m\u001b[0m\n\u001b[0;32m--> 467\u001b[0;31m     \u001b[0mfiles\u001b[0m \u001b[0;34m=\u001b[0m \u001b[0;34m[\u001b[0m\u001b[0mf\u001b[0m \u001b[0;32mfor\u001b[0m \u001b[0mf\u001b[0m \u001b[0;32min\u001b[0m \u001b[0mlistdir\u001b[0m\u001b[0;34m(\u001b[0m\u001b[0mrun_config_path\u001b[0m\u001b[0;34m)\u001b[0m \u001b[0;32mif\u001b[0m \u001b[0misfile\u001b[0m\u001b[0;34m(\u001b[0m\u001b[0mjoin\u001b[0m\u001b[0;34m(\u001b[0m\u001b[0mrun_config_path\u001b[0m\u001b[0;34m,\u001b[0m \u001b[0mf\u001b[0m\u001b[0;34m)\u001b[0m\u001b[0;34m)\u001b[0m\u001b[0;34m]\u001b[0m\u001b[0;34m\u001b[0m\u001b[0;34m\u001b[0m\u001b[0m\n\u001b[0m\u001b[1;32m    468\u001b[0m     \u001b[0;32mfor\u001b[0m \u001b[0mfile\u001b[0m \u001b[0;32min\u001b[0m \u001b[0mfiles\u001b[0m\u001b[0;34m:\u001b[0m\u001b[0;34m\u001b[0m\u001b[0;34m\u001b[0m\u001b[0m\n\u001b[1;32m    469\u001b[0m         \u001b[0;32mif\u001b[0m \u001b[0mfile\u001b[0m\u001b[0;34m.\u001b[0m\u001b[0mendswith\u001b[0m\u001b[0;34m(\u001b[0m\u001b[0msuffix\u001b[0m\u001b[0;34m)\u001b[0m\u001b[0;34m:\u001b[0m\u001b[0;34m\u001b[0m\u001b[0;34m\u001b[0m\u001b[0m\n",
      "\u001b[0;31mFileNotFoundError\u001b[0m: [Errno 2] No such file or directory: '/mnt/batch/tasks/shared/LS_root/mounts/clusters/ds3-v2-njs/code/Users/niswitan/bert-stack-overflow-1/1-Training'"
     ]
    }
   ],
   "source": [
    "from azureml.core import ScriptRun, ScriptRunConfig\n",
    "\n",
    "scriptrun = ScriptRunConfig(source_directory='./',\n",
    "                           script='train_logging.py',\n",
    "                           arguments=['--data_dir', azure_dataset.as_named_input('azureservicedata').as_mount(),\n",
    "                              '--max_seq_length', 128,\n",
    "                              '--batch_size', 16,\n",
    "                              '--learning_rate', 3e-5,\n",
    "                              '--steps_per_epoch', 5, # to reduce time for workshop\n",
    "                              '--num_epochs', 1, # to reduce time for workshop\n",
    "                              '--export_dir','./outputs/exports'],\n",
    "                           compute_target=locals,\n",
    "                           environment=env)\n",
    "\n",
    "run = experiment.submit(scriptrun)"
   ]
  },
  {
   "cell_type": "markdown",
   "metadata": {},
   "source": [
    "Now if we view the current details of the run, you will notice that the metrics will be logged into graphs."
   ]
  },
  {
   "cell_type": "code",
   "execution_count": null,
   "metadata": {
    "gather": {
     "logged": 1622006698331
    },
    "scrolled": true
   },
   "outputs": [],
   "source": [
    "from azureml.widgets import RunDetails\n",
    "RunDetails(run).show()"
   ]
  },
  {
   "cell_type": "markdown",
   "metadata": {},
   "source": [
    "## Check the model performance\n",
    "\n",
    "Last training run produced model of decent accuracy. Let's test it out and see what it does. First, let's check what files our latest training run produced and download the model files.\n",
    "\n",
    "#### Download model files"
   ]
  },
  {
   "cell_type": "code",
   "execution_count": null,
   "metadata": {},
   "outputs": [],
   "source": [
    "run.get_file_names()"
   ]
  },
  {
   "cell_type": "code",
   "execution_count": null,
   "metadata": {},
   "outputs": [],
   "source": [
    "modelpath = 'outputs/exports'\n",
    "run.download_files(prefix=modelpath)\n",
    "\n",
    "# # If you haven't finished training the model then just download pre-made model from datastore\n",
    "# datastore.download('./outputs/exports',prefix='model')"
   ]
  },
  {
   "cell_type": "markdown",
   "metadata": {},
   "source": [
    "## Register Model\n",
    "\n",
    "A registered [model](https://docs.microsoft.com/en-us/python/api/azureml-core/azureml.core.model(class)?view=azure-ml-py) is a reference to the directory or file or files that make up your model. After registering a model, you and other people in your workspace can easily gain access to and deploy your model without having to run the training script again. \n",
    "\n",
    "We need to define the following parameters to register a model:\n",
    "\n",
    "- `model_name`: The name for your model. If the model name already exists in the workspace, it will create a new version for the model.\n",
    "- `model_path`: The path to where the model is stored. In our case, this was the *export_dir* defined in our estimators.\n",
    "- `description`: A description for the model.\n",
    "\n",
    "Let's register the best run from our hyperparameter tuning."
   ]
  },
  {
   "cell_type": "code",
   "execution_count": null,
   "metadata": {
    "scrolled": true
   },
   "outputs": [],
   "source": [
    "model = run.register_model(model_name='azure-service-classifier', \n",
    "                                model_path=modelpath,\n",
    "                                datasets=[('train, test, validation data', azure_dataset)],\n",
    "                                description='BERT model for classifying azure services on stackoverflow posts.')"
   ]
  },
  {
   "cell_type": "markdown",
   "metadata": {},
   "source": [
    "---"
   ]
  },
  {
   "cell_type": "markdown",
   "metadata": {},
   "source": [
    "## Appendix\n",
    "\n",
    "__The following is for reference, but not to be used for this workshop.__"
   ]
  },
  {
   "cell_type": "markdown",
   "metadata": {},
   "source": [
    "## Distributed Training Across Multiple GPUs\n",
    "\n",
    "Distributed training allows us to train across multiple nodes of a cluster. Azure Machine Learning service helps manage the infrastructure for training distributed jobs. All we have to do is add the following parameters to our ScriptRunConfig object in order to enable this:\n",
    "\n",
    "- `node_count`: The number of nodes to run this job across. Our cluster has a maximum node limit of 2, so we can set this number up to 2.\n",
    "- `process_count_per_node`: The number of processes to enable per node. The nodes in our cluster have 2 GPUs each. We will set this value to 2 which will allow us to distribute the load on both GPUs. Using multi-GPU nodes is beneficial as communication channel bandwidth on local machines is higher than between nodes. \n",
    "- `distributed_training`: The backend to use for our distributed job. We will be using an MPI (Message Passing Interface) backend which is used by the Horovod framework.\n",
    "\n",
    "We use [Horovod](https://github.com/horovod/horovod), which is a framework that allows us to easily modifying our existing training script to be run across multiple nodes/GPUs. The distributed training script is saved as *train_horovod.py*.\n",
    "\n",
    "*  **ACTION**: Explore _train_horovod.py_ using [Azure ML studio > Notebooks tab](images/azuremlstudio-notebooks-explore.png)"
   ]
  },
  {
   "cell_type": "code",
   "execution_count": null,
   "metadata": {},
   "outputs": [],
   "source": [
    "%pycat train_horovod.py"
   ]
  },
  {
   "cell_type": "code",
   "execution_count": null,
   "metadata": {},
   "outputs": [],
   "source": [
    "from azureml.core.compute import AmlCompute, ComputeTarget\n",
    "\n",
    "cluster_name = 'train-gpu-nv6'\n",
    "compute_config = AmlCompute.provisioning_configuration(vm_size='Standard_NV6', \n",
    "                                                       idle_seconds_before_scaledown=6000,\n",
    "                                                       min_nodes=0, \n",
    "                                                       max_nodes=10)\n",
    "\n",
    "compute_target = ComputeTarget.create(ws, cluster_name, compute_config)\n",
    "compute_target.wait_for_completion(show_output=True)"
   ]
  },
  {
   "cell_type": "markdown",
   "metadata": {},
   "source": [
    "We can submit this run in the same way that we did with the others, but with the additional parameters."
   ]
  },
  {
   "cell_type": "code",
   "execution_count": null,
   "metadata": {},
   "outputs": [],
   "source": [
    "from azureml.core import ScriptRun, ScriptRunConfig\n",
    "from azureml.core.runconfig import MpiConfiguration\n",
    "\n",
    "scriptrun3 = ScriptRunConfig(source_directory='./',\n",
    "                           script='train_horovod.py',\n",
    "                           arguments=['--data_dir', azure_dataset.as_named_input('azureservicedata').as_mount(),\n",
    "                              '--max_seq_length', 128,\n",
    "                              '--batch_size', 32,\n",
    "                              '--learning_rate', 3e-5,\n",
    "                              '--steps_per_epoch', 150,\n",
    "                              '--num_epochs', 3,\n",
    "                              '--export_dir','./outputs/exports'],\n",
    "                           compute_target=compute_target,\n",
    "                           distributed_job_config=MpiConfiguration(process_count_per_node=1, node_count=1),\n",
    "                           environment=env)\n",
    "\n",
    "run3 = experiment.submit(scriptrun3)"
   ]
  },
  {
   "cell_type": "markdown",
   "metadata": {},
   "source": [
    "Once again, we can view the current details of the run. "
   ]
  },
  {
   "cell_type": "code",
   "execution_count": null,
   "metadata": {
    "scrolled": true
   },
   "outputs": [],
   "source": [
    "from azureml.widgets import RunDetails\n",
    "RunDetails(run3).show()"
   ]
  },
  {
   "cell_type": "markdown",
   "metadata": {},
   "source": [
    "Once the run completes, note the time it took. It should be around 5 minutes. As you can see, by moving to cloud GPUs and using distibuted training we reduced model training time from more than an hour to 5 minutes, which greatly improves our speed of experimentation and potential for innovation."
   ]
  },
  {
   "cell_type": "markdown",
   "metadata": {},
   "source": [
    "## Tune Hyperparameters Using Hyperdrive\n",
    "\n",
    "So far we have been putting in default hyperparameter values, but in practice we would need tune these values to optimize the performance. Azure Machine Learning service provides many methods for tuning hyperparameters using different strategies.\n",
    "\n",
    "The first step is to choose the parameter space that we want to search. We have a few choices to make here :\n",
    "\n",
    "- **Parameter Sampling Method**: This is how we select the combinations of parameters to sample. Azure Machine Learning service offers [RandomParameterSampling](https://docs.microsoft.com/en-us/python/api/azureml-train-core/azureml.train.hyperdrive.randomparametersampling?view=azure-ml-py), [GridParameterSampling](https://docs.microsoft.com/en-us/python/api/azureml-train-core/azureml.train.hyperdrive.gridparametersampling?view=azure-ml-py), and [BayesianParameterSampling](https://docs.microsoft.com/en-us/python/api/azureml-train-core/azureml.train.hyperdrive.bayesianparametersampling?view=azure-ml-py). We will use the `GridParameterSampling` method.\n",
    "- **Parameters To Search**: We will be searching for optimal combinations of `learning_rate` and `num_epochs`.\n",
    "- **Parameter Expressions**: This defines the [functions that can be used to describe a hyperparameter search space](https://docs.microsoft.com/en-us/python/api/azureml-train-core/azureml.train.hyperdrive.parameter_expressions?view=azure-ml-py), which can be discrete or continuous. We will be using a `discrete set of choices`.\n",
    "\n",
    "The following code allows us to define these options."
   ]
  },
  {
   "cell_type": "code",
   "execution_count": null,
   "metadata": {
    "scrolled": true
   },
   "outputs": [],
   "source": [
    "from azureml.train.hyperdrive import GridParameterSampling\n",
    "from azureml.train.hyperdrive.parameter_expressions import choice\n",
    "\n",
    "\n",
    "param_sampling = GridParameterSampling( {\n",
    "        '--learning_rate': choice(3e-5, 3e-4),\n",
    "        '--num_epochs': choice(3, 4)\n",
    "    }\n",
    ")"
   ]
  },
  {
   "cell_type": "markdown",
   "metadata": {},
   "source": [
    "The next step is to a define how we want to measure our performance. We do so by specifying two classes:\n",
    "\n",
    "- **[PrimaryMetricGoal](https://docs.microsoft.com/en-us/python/api/azureml-train-core/azureml.train.hyperdrive.primarymetricgoal?view=azure-ml-py)**: We want to `MAXIMIZE` the `val_accuracy` that is logged in our training script.\n",
    "- **[BanditPolicy](https://docs.microsoft.com/en-us/python/api/azureml-train-core/azureml.train.hyperdrive.banditpolicy?view=azure-ml-py)**: A policy for early termination so that jobs which don't show promising results will stop automatically."
   ]
  },
  {
   "cell_type": "code",
   "execution_count": null,
   "metadata": {
    "scrolled": true
   },
   "outputs": [],
   "source": [
    "from azureml.train.hyperdrive import BanditPolicy\n",
    "from azureml.train.hyperdrive import PrimaryMetricGoal\n",
    "\n",
    "primary_metric_name='val_accuracy'\n",
    "primary_metric_goal=PrimaryMetricGoal.MAXIMIZE\n",
    "\n",
    "early_termination_policy = BanditPolicy(slack_factor = 0.1, evaluation_interval=1, delay_evaluation=2)"
   ]
  },
  {
   "cell_type": "markdown",
   "metadata": {},
   "source": [
    "We define an estimator as usual, but this time without the script parameters that we are planning to search."
   ]
  },
  {
   "cell_type": "code",
   "execution_count": null,
   "metadata": {},
   "outputs": [],
   "source": [
    "from azureml.core import ScriptRun, ScriptRunConfig\n",
    "\n",
    "scriptrun4 = ScriptRunConfig(source_directory='./',\n",
    "                           script='train_logging.py',\n",
    "                           arguments=['--data_dir', azure_dataset.as_named_input('azureservicedata').as_mount(),\n",
    "                              '--max_seq_length', 128,\n",
    "                              '--batch_size', 32,\n",
    "                              '--learning_rate', 3e-5,\n",
    "                              '--steps_per_epoch', 150,\n",
    "                              '--num_epochs', 3,\n",
    "                              '--export_dir','./outputs/exports'],\n",
    "                           compute_target=compute_target,\n",
    "                           environment=env)\n"
   ]
  },
  {
   "cell_type": "markdown",
   "metadata": {},
   "source": [
    "Finally, we add all our parameters in a [HyperDriveConfig](https://docs.microsoft.com/en-us/python/api/azureml-train-core/azureml.train.hyperdrive.hyperdriveconfig?view=azure-ml-py) class and submit it as a run. "
   ]
  },
  {
   "cell_type": "code",
   "execution_count": null,
   "metadata": {},
   "outputs": [],
   "source": [
    "from azureml.train.hyperdrive import HyperDriveConfig\n",
    "\n",
    "hyperdrive_run_config = HyperDriveConfig(run_config=scriptrun4, \n",
    "                       hyperparameter_sampling=param_sampling, \n",
    "                       policy=early_termination_policy, \n",
    "                       primary_metric_name=primary_metric_name, \n",
    "                       primary_metric_goal=PrimaryMetricGoal.MAXIMIZE, \n",
    "                       max_total_runs=10,\n",
    "                       max_concurrent_runs=2)\n",
    "\n",
    "run4 = experiment.submit(hyperdrive_run_config)"
   ]
  },
  {
   "cell_type": "markdown",
   "metadata": {},
   "source": [
    "When we view the details of our run this time, we will see information and metrics for every run in our hyperparameter tuning."
   ]
  },
  {
   "cell_type": "code",
   "execution_count": null,
   "metadata": {
    "scrolled": false
   },
   "outputs": [],
   "source": [
    "from azureml.widgets import RunDetails\n",
    "RunDetails(run4).show()"
   ]
  },
  {
   "cell_type": "markdown",
   "metadata": {},
   "source": [
    "We can retrieve the best run based on our defined metric."
   ]
  },
  {
   "cell_type": "code",
   "execution_count": null,
   "metadata": {
    "scrolled": true
   },
   "outputs": [],
   "source": [
    "best_run = run4.get_best_run_by_primary_metric()"
   ]
  },
  {
   "cell_type": "markdown",
   "metadata": {},
   "source": [
    "We have registered the model with Dataset reference. \n",
    "* **ACTION**: Check dataset to model link in **Azure ML studio > Datasets tab > Azure Service Dataset**."
   ]
  },
  {
   "cell_type": "markdown",
   "metadata": {},
   "source": [
    "In the [next tutorial](), we will perform inferencing on this model and deploy it to a web service."
   ]
  }
 ],
 "metadata": {
  "file_extension": ".py",
  "kernel_info": {
   "name": "python3-azureml"
  },
  "kernelspec": {
   "display_name": "Python 3",
   "language": "python",
   "name": "python3"
  },
  "language_info": {
   "codemirror_mode": {
    "name": "ipython",
    "version": 3
   },
   "file_extension": ".py",
   "mimetype": "text/x-python",
   "name": "python",
   "nbconvert_exporter": "python",
   "pygments_lexer": "ipython3",
   "version": "3.6.9"
  },
  "mimetype": "text/x-python",
  "name": "python",
  "npconvert_exporter": "python",
  "nteract": {
   "version": "nteract-front-end@1.0.0"
  },
  "pygments_lexer": "ipython3",
  "version": 3
 },
 "nbformat": 4,
 "nbformat_minor": 2
}